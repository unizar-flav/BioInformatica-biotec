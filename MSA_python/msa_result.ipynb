{
 "cells": [
  {
   "cell_type": "markdown",
   "metadata": {},
   "source": [
    "# Multiple Sequence Aligment\n",
    "\n",
    "Degree in Biotechnology - *University of Zaragoza*"
   ]
  },
  {
   "cell_type": "code",
   "execution_count": null,
   "metadata": {
    "cellView": "form"
   },
   "outputs": [],
   "source": [
    "#@markdown Install dependencies and prepare the environment\n",
    "\n",
    "%pip install -r \"https://raw.githubusercontent.com/unizar-flav/BioInformatica-biotec/master/requirements.txt\"\n",
    "\n",
    "!git clone http://github.com/unizar-flav/BioInformatica-biotec.git\n",
    "%cd BioInformatica-biotec/MSA_python\n",
    "!wget https://drive5.com/muscle/downloads3.8.31/muscle3.8.31_i86linux64.tar.gz\n",
    "!tar -xvaf muscle3.8.31_i86linux64.tar.gz\n",
    "%rm -f *.tar.gz\n",
    "%mv muscle3.8.31_i86linux64 muscle.exe"
   ]
  },
  {
   "cell_type": "code",
   "execution_count": null,
   "metadata": {},
   "outputs": [],
   "source": [
    "# import custom module\n",
    "from msa_unizar import download_pdb, read_sequence, get_alignment_file, consensus_alignment"
   ]
  },
  {
   "cell_type": "code",
   "execution_count": null,
   "metadata": {},
   "outputs": [],
   "source": [
    "# define our working pdb\n",
    "pdb_id = \"1ftg\"\n",
    "pdb_chain = \"A\""
   ]
  },
  {
   "cell_type": "code",
   "execution_count": null,
   "metadata": {},
   "outputs": [],
   "source": [
    "# download pdb\n",
    "download_pdb(pdb_id)"
   ]
  },
  {
   "cell_type": "code",
   "execution_count": null,
   "metadata": {},
   "outputs": [],
   "source": [
    "# get sequence from pdb\n",
    "seq = read_sequence(pdb_id, pdb_chain)\n",
    "print(seq)"
   ]
  },
  {
   "cell_type": "code",
   "execution_count": null,
   "metadata": {},
   "outputs": [],
   "source": [
    "# print extended sequence\n",
    "for i in range(len(seq)):\n",
    "    print(i, seq[i])"
   ]
  },
  {
   "cell_type": "code",
   "execution_count": null,
   "metadata": {},
   "outputs": [],
   "source": [
    "# perform sequence alignment\n",
    "get_alignment_file(pdb_id, pdb_chain, seq)"
   ]
  },
  {
   "cell_type": "code",
   "execution_count": null,
   "metadata": {},
   "outputs": [],
   "source": [
    "# calculate consensus sequence\n",
    "consensus_alignment(pdb_id, pdb_chain, seq, \"muscle.exe\")"
   ]
  }
 ],
 "metadata": {
  "kernelspec": {
   "display_name": "Python 3",
   "language": "python",
   "name": "python3"
  },
  "language_info": {
   "codemirror_mode": {
    "name": "ipython",
    "version": 3
   },
   "file_extension": ".py",
   "mimetype": "text/x-python",
   "name": "python",
   "nbconvert_exporter": "python",
   "pygments_lexer": "ipython3",
   "version": "3.10.6"
  },
  "orig_nbformat": 4,
  "vscode": {
   "interpreter": {
    "hash": "916dbcbb3f70747c44a77c7bcd40155683ae19c65e1c03b4aa3499c5328201f1"
   }
  }
 },
 "nbformat": 4,
 "nbformat_minor": 2
}
