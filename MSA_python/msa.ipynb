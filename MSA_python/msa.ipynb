{
 "cells": [
  {
   "cell_type": "markdown",
   "metadata": {},
   "source": [
    "# Multiple Sequence Aligment\n",
    "\n",
    "Degree in Biotechnology - *University of Zaragoza*"
   ]
  },
  {
   "cell_type": "code",
   "execution_count": null,
   "metadata": {
    "cellView": "form"
   },
   "outputs": [],
   "source": [
    "#@markdown Install dependencies and prepare the environment\n",
    "\n",
    "%pip install -r \"https://raw.githubusercontent.com/unizar-flav/BioInformatica-biotec/master/requirements.txt\"\n",
    "\n",
    "!git clone http://github.com/unizar-flav/BioInformatica-biotec.git\n",
    "%cd BioInformatica-biotec/MSA_python\n",
    "!wget https://drive5.com/muscle/downloads3.8.31/muscle3.8.31_i86linux64.tar.gz\n",
    "!tar -xvaf muscle3.8.31_i86linux64.tar.gz\n",
    "%rm -f *.tar.gz\n",
    "%mv muscle3.8.31_i86linux64 muscle.exe"
   ]
  },
  {
   "cell_type": "markdown",
   "metadata": {},
   "source": [
    "Calculate the multiple sequence alignment and the consensus sequence for the chain A of these two PDB entries: 1FTG and 1I2T.\n",
    "\n",
    "1. Define the working system to the variables `pdb_id` and `pdb_chain`\n",
    "2. Download the pdb file\n",
    "3. Get sequence to the `seq` variable\n",
    "4. Print the sequence in an extended format (with a loop)\n",
    "5. Perform sequence alignment (BLAST)\n",
    "6. Calculate consensus sequence"
   ]
  },
  {
   "cell_type": "code",
   "execution_count": null,
   "metadata": {},
   "outputs": [],
   "source": [
    "# import functions from custom module\n",
    "from msa_unizar import download_pdb, read_sequence, get_alignment_file, consensus_alignment"
   ]
  }
 ],
 "metadata": {
  "kernelspec": {
   "display_name": "Python 3",
   "language": "python",
   "name": "python3"
  },
  "language_info": {
   "codemirror_mode": {
    "name": "ipython",
    "version": 3
   },
   "file_extension": ".py",
   "mimetype": "text/x-python",
   "name": "python",
   "nbconvert_exporter": "python",
   "pygments_lexer": "ipython3",
   "version": "3.10.6"
  },
  "orig_nbformat": 4,
  "vscode": {
   "interpreter": {
    "hash": "916dbcbb3f70747c44a77c7bcd40155683ae19c65e1c03b4aa3499c5328201f1"
   }
  }
 },
 "nbformat": 4,
 "nbformat_minor": 2
}
